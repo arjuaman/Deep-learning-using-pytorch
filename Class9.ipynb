{
  "nbformat": 4,
  "nbformat_minor": 0,
  "metadata": {
    "colab": {
      "name": "Class9.ipynb",
      "provenance": []
    },
    "kernelspec": {
      "name": "python3",
      "display_name": "Python 3"
    }
  },
  "cells": [
    {
      "cell_type": "code",
      "metadata": {
        "id": "FIiUPt7Oy8Pi",
        "outputId": "530d3a52-5fcf-4a40-aeb0-0fe6edbed877",
        "colab": {
          "base_uri": "https://localhost:8080/",
          "height": 35
        }
      },
      "source": [
        "from google.colab import drive\n",
        "drive.mount(\"/content/drive\")"
      ],
      "execution_count": 1,
      "outputs": [
        {
          "output_type": "stream",
          "text": [
            "Mounted at /content/drive\n"
          ],
          "name": "stdout"
        }
      ]
    },
    {
      "cell_type": "code",
      "metadata": {
        "id": "-qQNUXVE0G8f",
        "outputId": "0a2f6fdb-bcf0-418a-c9c2-ae1cbba5f671",
        "colab": {
          "base_uri": "https://localhost:8080/",
          "height": 35
        }
      },
      "source": [
        "import numpy as np\n",
        "import torch\n",
        "\n",
        "t_c = torch.tensor([0.5,14.0,15.0,28.0,11.0,8.0,3.0,-4.0,6.0,13.0,21.0])\n",
        "t_u = torch.tensor([35.7,55.9,58.2,81.9,56.3,48.9,33.9,21.8,48.4,60.4,68.4])\n",
        "\n",
        "t_un = 0.1 * t_u\n",
        "\n",
        "n_samples = t_u.shape[0]\n",
        "n_val = int(0.2*n_samples)\n",
        "\n",
        "shuffled_indices = torch.randperm(n_samples)\n",
        "\n",
        "train_indices=shuffled_indices[:-n_val]\n",
        "val_indices = shuffled_indices[-n_val:]\n",
        "\n",
        "train_indices,val_indices"
      ],
      "execution_count": 2,
      "outputs": [
        {
          "output_type": "execute_result",
          "data": {
            "text/plain": [
              "(tensor([ 3,  5,  4,  8,  2,  7,  1,  0, 10]), tensor([9, 6]))"
            ]
          },
          "metadata": {
            "tags": []
          },
          "execution_count": 2
        }
      ]
    },
    {
      "cell_type": "code",
      "metadata": {
        "id": "qsI15OG3YeFk"
      },
      "source": [
        "train_t_u = t_u[train_indices]\n",
        "train_t_c = t_c[train_indices]\n",
        "\n",
        "val_t_u = t_u[val_indices]\n",
        "val_t_c = t_c[val_indices]\n",
        "\n",
        "train_t_un = 0.1*train_t_u\n",
        "val_t_un = 0.1*val_t_u"
      ],
      "execution_count": 3,
      "outputs": []
    },
    {
      "cell_type": "code",
      "metadata": {
        "id": "zRpLUuZqZD9b"
      },
      "source": [
        "def model(t_u,w,b):\n",
        "  return w * t_u + b\n",
        "\n",
        "def loss_fn(t_p,t_c):\n",
        "  squared_diffs = (t_p - t_c)**2\n",
        "  return squared_diffs.mean()\n",
        "\n",
        "def training_loop(n_epochs,optimizer,params,train_t_u,val_t_u,\n",
        "                  train_t_c,val_t_c):\n",
        "  for epoch in range(1,n_epochs+1):\n",
        "    train_t_p = model(train_t_u,*params)\n",
        "    train_loss = loss_fn(train_t_p,train_t_c)\n",
        "    \n",
        "    val_t_p = model(val_t_u,*params)\n",
        "    val_loss = loss_fn(val_t_p,val_t_c)\n",
        "\n",
        "    optimizer.zero_grad()\n",
        "    train_loss.backward()\n",
        "    optimizer.step()\n",
        "\n",
        "    if epoch<=3 or epoch%500==0:\n",
        "      print(f\"Epoch {epoch}, Training Loss {train_loss.item():.4f},\"f\" Validation loss{val_loss.item():.4f}\")\n",
        "  return params"
      ],
      "execution_count": 5,
      "outputs": []
    },
    {
      "cell_type": "code",
      "metadata": {
        "id": "Nd6JZcOAaKBw",
        "outputId": "c001083b-c2b2-407d-b7bf-0f64692b3fbf",
        "colab": {
          "base_uri": "https://localhost:8080/",
          "height": 191
        }
      },
      "source": [
        "import torch.optim as optim\n",
        "params = torch.tensor([1.0,0.0],requires_grad=True)\n",
        "learning_rate = 1e-2\n",
        "optimizer = optim.SGD([params],lr=learning_rate)\n",
        "\n",
        "training_loop(\n",
        "    n_epochs=3000,\n",
        "    optimizer=optimizer,\n",
        "    params=params,\n",
        "    train_t_u=train_t_un,\n",
        "    val_t_u=val_t_un,\n",
        "    train_t_c=train_t_c,\n",
        "    val_t_c=val_t_c\n",
        ")"
      ],
      "execution_count": 7,
      "outputs": [
        {
          "output_type": "stream",
          "text": [
            "Epoch 1, Training Loss 92.8238, Validation loss24.2968\n",
            "Epoch 2, Training Loss 41.4546, Validation loss7.2096\n",
            "Epoch 3, Training Loss 34.3515, Validation loss10.2757\n",
            "Epoch 500, Training Loss 8.0515, Validation loss2.1452\n",
            "Epoch 1000, Training Loss 3.4542, Validation loss2.9397\n",
            "Epoch 1500, Training Loss 2.6258, Validation loss4.3778\n",
            "Epoch 2000, Training Loss 2.4765, Validation loss5.1867\n",
            "Epoch 2500, Training Loss 2.4496, Validation loss5.5659\n",
            "Epoch 3000, Training Loss 2.4448, Validation loss5.7332\n"
          ],
          "name": "stdout"
        },
        {
          "output_type": "execute_result",
          "data": {
            "text/plain": [
              "tensor([  5.5790, -18.4106], requires_grad=True)"
            ]
          },
          "metadata": {
            "tags": []
          },
          "execution_count": 7
        }
      ]
    },
    {
      "cell_type": "code",
      "metadata": {
        "id": "oDrefsUaazSR"
      },
      "source": [
        ""
      ],
      "execution_count": null,
      "outputs": []
    }
  ]
}