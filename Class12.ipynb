{
  "nbformat": 4,
  "nbformat_minor": 0,
  "metadata": {
    "colab": {
      "name": "Class12.ipynb",
      "provenance": []
    },
    "kernelspec": {
      "name": "python3",
      "display_name": "Python 3"
    }
  },
  "cells": [
    {
      "cell_type": "code",
      "metadata": {
        "id": "bIZGyyw4I04h",
        "outputId": "0f9bca06-4d10-4425-ccd7-2ccc1f191fa2",
        "colab": {
          "base_uri": "https://localhost:8080/",
          "height": 35
        }
      },
      "source": [
        "from google.colab import drive\n",
        "drive.mount(\"/content/drive\")"
      ],
      "execution_count": 1,
      "outputs": [
        {
          "output_type": "stream",
          "text": [
            "Mounted at /content/drive\n"
          ],
          "name": "stdout"
        }
      ]
    },
    {
      "cell_type": "code",
      "metadata": {
        "id": "otmN6Lu1OieX",
        "outputId": "8f37f1c9-6def-4386-ba6f-6ae71293e3ce",
        "colab": {
          "base_uri": "https://localhost:8080/",
          "height": 52
        }
      },
      "source": [
        "import numpy as np\n",
        "import torch\n",
        "\n",
        "t_c = torch.tensor([0.5,14.0,15.0,28.0,11.0,8.0,3.0,-4.0,6.0,13.0,21.0])\n",
        "t_u = torch.tensor([35.7,55.9,58.2,81.9,56.3,48.9,33.9,21.8,48.4,60.4,68.4])\n",
        "print(t_u.shape)\n",
        "\n",
        "t_c = t_c.unsqueeze(1)\n",
        "t_u = t_u.unsqueeze(1)\n",
        "\n",
        "n_samples = t_u.shape[0]\n",
        "n_val = int(0.2*n_samples)\n",
        "\n",
        "shuffled_indices = torch.randperm(n_samples)\n",
        "\n",
        "train_indices=shuffled_indices[:-n_val]\n",
        "val_indices = shuffled_indices[-n_val:]\n",
        "\n",
        "print(train_indices,val_indices)\n",
        "\n",
        "t_u_train = t_u[train_indices]\n",
        "t_c_train = t_c[train_indices]\n",
        "\n",
        "t_u_val = t_u[val_indices]\n",
        "t_c_val = t_c[val_indices]\n",
        "\n",
        "t_un_train = 0.1*t_u_train\n",
        "t_un_val = 0.1*t_u_val"
      ],
      "execution_count": 2,
      "outputs": [
        {
          "output_type": "stream",
          "text": [
            "torch.Size([11])\n",
            "tensor([ 7,  9,  4,  3,  8,  5,  6, 10,  0]) tensor([2, 1])\n"
          ],
          "name": "stdout"
        }
      ]
    },
    {
      "cell_type": "code",
      "metadata": {
        "id": "0P_jbJOidued"
      },
      "source": [
        "import torch.nn as nn\n",
        "\n",
        "seq_model = nn.Sequential(\n",
        "    nn.Linear(1,13),\n",
        "    nn.Tanh(),\n",
        "    nn.Linear(13,1)\n",
        ")"
      ],
      "execution_count": 4,
      "outputs": []
    },
    {
      "cell_type": "code",
      "metadata": {
        "id": "HLyxOzQvd7kA",
        "outputId": "af1cb241-0a6a-432e-fa90-11fce37fd648",
        "colab": {
          "base_uri": "https://localhost:8080/",
          "height": 35
        }
      },
      "source": [
        "[param.shape for param in seq_model.parameters()]"
      ],
      "execution_count": 5,
      "outputs": [
        {
          "output_type": "execute_result",
          "data": {
            "text/plain": [
              "[torch.Size([13, 1]), torch.Size([13]), torch.Size([1, 13]), torch.Size([1])]"
            ]
          },
          "metadata": {
            "tags": []
          },
          "execution_count": 5
        }
      ]
    },
    {
      "cell_type": "code",
      "metadata": {
        "id": "214qR7Nn1leB",
        "outputId": "5da102fe-f9d7-4a90-c766-ab7ac7412eb9",
        "colab": {
          "base_uri": "https://localhost:8080/",
          "height": 87
        }
      },
      "source": [
        "for name,param in seq_model.named_parameters():\n",
        "  print(name,param.shape)"
      ],
      "execution_count": 6,
      "outputs": [
        {
          "output_type": "stream",
          "text": [
            "0.weight torch.Size([13, 1])\n",
            "0.bias torch.Size([13])\n",
            "2.weight torch.Size([1, 13])\n",
            "2.bias torch.Size([1])\n"
          ],
          "name": "stdout"
        }
      ]
    },
    {
      "cell_type": "code",
      "metadata": {
        "id": "srNlyEuY1vsl"
      },
      "source": [
        "from collections import OrderedDict\n",
        "\n",
        "seq_model = nn.Sequential(OrderedDict([\n",
        "    ('hidden_layer',nn.Linear(1,8)),\n",
        "    ('hidden_activation',nn.Tanh()),\n",
        "    ('output_linear',nn.Linear(8,1))\n",
        "]))"
      ],
      "execution_count": 7,
      "outputs": []
    },
    {
      "cell_type": "code",
      "metadata": {
        "id": "KGE2SUGb2KLC",
        "outputId": "7287f1b3-9f82-4c23-b5ab-787845b27907",
        "colab": {
          "base_uri": "https://localhost:8080/",
          "height": 104
        }
      },
      "source": [
        "seq_model"
      ],
      "execution_count": 8,
      "outputs": [
        {
          "output_type": "execute_result",
          "data": {
            "text/plain": [
              "Sequential(\n",
              "  (hidden_layer): Linear(in_features=1, out_features=8, bias=True)\n",
              "  (hidden_activation): Tanh()\n",
              "  (output_linear): Linear(in_features=8, out_features=1, bias=True)\n",
              ")"
            ]
          },
          "metadata": {
            "tags": []
          },
          "execution_count": 8
        }
      ]
    },
    {
      "cell_type": "code",
      "metadata": {
        "id": "eH6V7f1D2LM9",
        "outputId": "a94536c0-1230-4ff7-d93f-d09917f75ff2",
        "colab": {
          "base_uri": "https://localhost:8080/",
          "height": 87
        }
      },
      "source": [
        "for name,param in seq_model.named_parameters():\n",
        "  print(name,param.shape)"
      ],
      "execution_count": 9,
      "outputs": [
        {
          "output_type": "stream",
          "text": [
            "hidden_layer.weight torch.Size([8, 1])\n",
            "hidden_layer.bias torch.Size([8])\n",
            "output_linear.weight torch.Size([1, 8])\n",
            "output_linear.bias torch.Size([1])\n"
          ],
          "name": "stdout"
        }
      ]
    },
    {
      "cell_type": "code",
      "metadata": {
        "id": "rvaMTsPH2OTO"
      },
      "source": [
        "import torch.optim as optim\n",
        "\n",
        "optimizer = optim.SGD(seq_model.parameters(),lr=1e-3)\n",
        "\n",
        "def training_loop(n_epochs, optimizer, model, loss_fn, t_u_train,\n",
        "                  t_u_val,t_c_train,t_c_val):\n",
        "  for epoch in range(1,n_epochs+1):\n",
        "    t_p_train = model(t_u_train)\n",
        "    loss_train = loss_fn(t_p_train, t_c_train)\n",
        "\n",
        "    t_p_val = model(t_u_val)\n",
        "    loss_val = loss_fn(t_p_val,t_c_val)\n",
        "\n",
        "    optimizer.zero_grad()\n",
        "    loss_train.backward()\n",
        "    optimizer.step()\n",
        "\n",
        "    if epoch==1 or epoch%1000==0:\n",
        "      print(f\"Epoch {epoch}, Training loss {loss_train.item():.4f},\"\n",
        "            f\" Validation loss {loss_val.item():.4f}\")\n"
      ],
      "execution_count": 11,
      "outputs": []
    },
    {
      "cell_type": "code",
      "metadata": {
        "id": "z1bm6EB02ci8",
        "outputId": "0679eae5-d44a-481d-967b-4f626f1b344f",
        "colab": {
          "base_uri": "https://localhost:8080/",
          "height": 121
        }
      },
      "source": [
        "\n",
        "training_loop(\n",
        "    n_epochs=5000,\n",
        "    optimizer=optimizer,\n",
        "    model=seq_model,\n",
        "    loss_fn=nn.MSELoss(),\n",
        "    t_u_train=t_un_train,\n",
        "    t_u_val=t_un_val,\n",
        "    t_c_train=t_c_train,\n",
        "    t_c_val = t_c_val\n",
        ")"
      ],
      "execution_count": 12,
      "outputs": [
        {
          "output_type": "stream",
          "text": [
            "Epoch 1, Training loss 200.3607, Validation loss 237.2892\n",
            "Epoch 1000, Training loss 4.9626, Validation loss 2.7828\n",
            "Epoch 2000, Training loss 1.5977, Validation loss 5.3840\n",
            "Epoch 3000, Training loss 1.0651, Validation loss 7.1307\n",
            "Epoch 4000, Training loss 0.9296, Validation loss 8.2911\n",
            "Epoch 5000, Training loss 0.9016, Validation loss 8.7780\n"
          ],
          "name": "stdout"
        }
      ]
    },
    {
      "cell_type": "code",
      "metadata": {
        "id": "Oiu0tELi2v1J",
        "outputId": "82adce29-9f35-4b48-e5ab-f252c8e33ef1",
        "colab": {
          "base_uri": "https://localhost:8080/",
          "height": 87
        }
      },
      "source": [
        "print('output',seq_model(t_un_val))\n",
        "print('answer',t_c_val)\n",
        "#print('hidden',seq_model.hidden_linear.weight.grad)"
      ],
      "execution_count": 14,
      "outputs": [
        {
          "output_type": "stream",
          "text": [
            "output tensor([[12.3387],\n",
            "        [10.7637]], grad_fn=<AddmmBackward>)\n",
            "answer tensor([[15.],\n",
            "        [14.]])\n"
          ],
          "name": "stdout"
        }
      ]
    },
    {
      "cell_type": "code",
      "metadata": {
        "id": "eSN6NSsf3AJ5"
      },
      "source": [
        ""
      ],
      "execution_count": null,
      "outputs": []
    }
  ]
}