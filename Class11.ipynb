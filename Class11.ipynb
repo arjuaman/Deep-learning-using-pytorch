{
  "nbformat": 4,
  "nbformat_minor": 0,
  "metadata": {
    "colab": {
      "name": "Class11.ipynb",
      "provenance": []
    },
    "kernelspec": {
      "name": "python3",
      "display_name": "Python 3"
    }
  },
  "cells": [
    {
      "cell_type": "code",
      "metadata": {
        "id": "qER0QinDNMrL",
        "outputId": "e401de31-d648-466d-d242-0c2942cba908",
        "colab": {
          "base_uri": "https://localhost:8080/",
          "height": 55
        }
      },
      "source": [
        "from google.colab import drive\n",
        "drive.mount(\"/content/drive\")"
      ],
      "execution_count": 4,
      "outputs": [
        {
          "output_type": "stream",
          "text": [
            "Drive already mounted at /content/drive; to attempt to forcibly remount, call drive.mount(\"/content/drive\", force_remount=True).\n"
          ],
          "name": "stdout"
        }
      ]
    },
    {
      "cell_type": "code",
      "metadata": {
        "id": "sDuld1YgNg_A",
        "outputId": "d7189ade-bff1-4e27-d1f1-c0962fd7e625",
        "colab": {
          "base_uri": "https://localhost:8080/",
          "height": 52
        }
      },
      "source": [
        "import numpy as np\n",
        "import torch\n",
        "\n",
        "t_c = torch.tensor([0.5,14.0,15.0,28.0,11.0,8.0,3.0,-4.0,6.0,13.0,21.0])\n",
        "t_u = torch.tensor([35.7,55.9,58.2,81.9,56.3,48.9,33.9,21.8,48.4,60.4,68.4])\n",
        "print(t_u.shape)\n",
        "\n",
        "t_c = t_c.unsqueeze(1)\n",
        "t_u = t_u.unsqueeze(1)\n",
        "\n",
        "n_samples = t_u.shape[0]\n",
        "n_val = int(0.2*n_samples)\n",
        "\n",
        "shuffled_indices = torch.randperm(n_samples)\n",
        "\n",
        "train_indices=shuffled_indices[:-n_val]\n",
        "val_indices = shuffled_indices[-n_val:]\n",
        "\n",
        "print(train_indices,val_indices)\n",
        "\n",
        "t_u_train = t_u[train_indices]\n",
        "t_c_train = t_c[train_indices]\n",
        "\n",
        "t_u_val = t_u[val_indices]\n",
        "t_c_val = t_c[val_indices]\n",
        "\n",
        "t_un_train = 0.1*t_u_train\n",
        "t_un_val = 0.1*t_u_val"
      ],
      "execution_count": 21,
      "outputs": [
        {
          "output_type": "stream",
          "text": [
            "torch.Size([11])\n",
            "tensor([ 9,  6,  5,  7,  1,  4,  8,  0, 10]) tensor([3, 2])\n"
          ],
          "name": "stdout"
        }
      ]
    },
    {
      "cell_type": "code",
      "metadata": {
        "id": "8iOPGoHZQD6n",
        "outputId": "efc655d3-7146-4e49-b126-056e61c8d2b4",
        "colab": {
          "base_uri": "https://localhost:8080/",
          "height": 52
        }
      },
      "source": [
        "import torch.nn as nn\n",
        "\n",
        "linear_model = nn.Linear(1,1)\n",
        "linear_model(val_t_un)"
      ],
      "execution_count": 22,
      "outputs": [
        {
          "output_type": "execute_result",
          "data": {
            "text/plain": [
              "tensor([[4.8320],\n",
              "        [3.1590]], grad_fn=<AddmmBackward>)"
            ]
          },
          "metadata": {
            "tags": []
          },
          "execution_count": 22
        }
      ]
    },
    {
      "cell_type": "code",
      "metadata": {
        "id": "F_u11sJQnrBq",
        "outputId": "2df20435-7fee-48c1-d59d-f982da8ae21c",
        "colab": {
          "base_uri": "https://localhost:8080/",
          "height": 52
        }
      },
      "source": [
        "linear_model.weight"
      ],
      "execution_count": 23,
      "outputs": [
        {
          "output_type": "execute_result",
          "data": {
            "text/plain": [
              "Parameter containing:\n",
              "tensor([[0.8122]], requires_grad=True)"
            ]
          },
          "metadata": {
            "tags": []
          },
          "execution_count": 23
        }
      ]
    },
    {
      "cell_type": "code",
      "metadata": {
        "id": "YlNh_55e1kCC",
        "outputId": "c7b558b0-b67e-4a58-f142-b59253b31b1b",
        "colab": {
          "base_uri": "https://localhost:8080/",
          "height": 52
        }
      },
      "source": [
        "linear_model.bias"
      ],
      "execution_count": 24,
      "outputs": [
        {
          "output_type": "execute_result",
          "data": {
            "text/plain": [
              "Parameter containing:\n",
              "tensor([0.2596], requires_grad=True)"
            ]
          },
          "metadata": {
            "tags": []
          },
          "execution_count": 24
        }
      ]
    },
    {
      "cell_type": "code",
      "metadata": {
        "id": "_4V0o3a21nCb",
        "outputId": "29fd384e-a192-4d92-9fce-20c7d47dd206",
        "colab": {
          "base_uri": "https://localhost:8080/",
          "height": 191
        }
      },
      "source": [
        "x = torch.ones(10,1)\n",
        "linear_model(x)"
      ],
      "execution_count": 25,
      "outputs": [
        {
          "output_type": "execute_result",
          "data": {
            "text/plain": [
              "tensor([[1.0718],\n",
              "        [1.0718],\n",
              "        [1.0718],\n",
              "        [1.0718],\n",
              "        [1.0718],\n",
              "        [1.0718],\n",
              "        [1.0718],\n",
              "        [1.0718],\n",
              "        [1.0718],\n",
              "        [1.0718]], grad_fn=<AddmmBackward>)"
            ]
          },
          "metadata": {
            "tags": []
          },
          "execution_count": 25
        }
      ]
    },
    {
      "cell_type": "code",
      "metadata": {
        "id": "0trhy-JO1r2a"
      },
      "source": [
        "import torch.optim as optim\n",
        "\n",
        "linear_model = nn.Linear(1,1)\n",
        "optimizer = optim.SGD(\n",
        "    linear_model.parameters(),\n",
        "    lr=1e-2\n",
        ")"
      ],
      "execution_count": 26,
      "outputs": []
    },
    {
      "cell_type": "code",
      "metadata": {
        "id": "ZDALBA-v39y9",
        "outputId": "423193f3-b1b0-4752-9dcb-bbbdc095a0b6",
        "colab": {
          "base_uri": "https://localhost:8080/",
          "height": 69
        }
      },
      "source": [
        "list(linear_model.parameters())"
      ],
      "execution_count": 27,
      "outputs": [
        {
          "output_type": "execute_result",
          "data": {
            "text/plain": [
              "[Parameter containing:\n",
              " tensor([[-0.6227]], requires_grad=True), Parameter containing:\n",
              " tensor([-0.9424], requires_grad=True)]"
            ]
          },
          "metadata": {
            "tags": []
          },
          "execution_count": 27
        }
      ]
    },
    {
      "cell_type": "code",
      "metadata": {
        "id": "hlszje9r4FZX"
      },
      "source": [
        "def training_loop(n_epochs, optimizer, model, loss_fn, t_u_train,\n",
        "                  t_u_val,t_c_train,t_c_val):\n",
        "  for epoch in range(1,n_epochs+1):\n",
        "    t_p_train = model(t_u_train)\n",
        "    loss_train = loss_fn(t_p_train, t_c_train)\n",
        "\n",
        "    t_p_val = model(t_u_val)\n",
        "    loss_val = loss_fn(t_p_val,t_c_val)\n",
        "\n",
        "    optimizer.zero_grad()\n",
        "    loss_train.backward()\n",
        "    optimizer.step()\n",
        "\n",
        "    if epoch==1 or epoch%1000==0:\n",
        "      print(f\"Epoch {epoch}, Training loss {loss_train.item():.4f},\"\n",
        "            f\" Validation loss {loss_val.item():.4f}\")"
      ],
      "execution_count": 28,
      "outputs": []
    },
    {
      "cell_type": "code",
      "metadata": {
        "id": "wSMSS-gZ-8qa"
      },
      "source": [
        "def loss_fn(t_p,t_c):\n",
        "  squared_diffs = (t_p - t_c)**2\n",
        "  return squared_diffs.mean()"
      ],
      "execution_count": 29,
      "outputs": []
    },
    {
      "cell_type": "code",
      "metadata": {
        "id": "S2JNItGs_CLQ",
        "outputId": "7a7ef6fc-a9a8-4e3b-b135-eef6bfe4beca",
        "colab": {
          "base_uri": "https://localhost:8080/",
          "height": 87
        }
      },
      "source": [
        "linear_model = nn.Linear(1,1)\n",
        "optimizer = optim.SGD(linear_model.parameters(),lr=1e-2)\n",
        "\n",
        "training_loop(\n",
        "    n_epochs=3000,\n",
        "    optimizer=optimizer,\n",
        "    model=linear_model,\n",
        "    loss_fn=loss_fn,\n",
        "    t_u_train=t_un_train,\n",
        "    t_u_val=t_un_val,\n",
        "    t_c_train=t_c_train,\n",
        "    t_c_val = t_c_val\n",
        ")"
      ],
      "execution_count": 30,
      "outputs": [
        {
          "output_type": "stream",
          "text": [
            "Epoch 1, Training loss 83.5016, Validation loss 384.2205\n",
            "Epoch 1000, Training loss 3.8950, Validation loss 13.4908\n",
            "Epoch 2000, Training loss 3.0178, Validation loss 6.6178\n",
            "Epoch 3000, Training loss 2.9747, Validation loss 5.4433\n"
          ],
          "name": "stdout"
        }
      ]
    },
    {
      "cell_type": "code",
      "metadata": {
        "id": "KwE0j9lY_aZW",
        "outputId": "9aaf1eaf-4cac-496a-990d-6b8941fcb4e2",
        "colab": {
          "base_uri": "https://localhost:8080/",
          "height": 104
        }
      },
      "source": [
        "print()\n",
        "print(linear_model.weight)\n",
        "print(linear_model.bias)"
      ],
      "execution_count": 31,
      "outputs": [
        {
          "output_type": "stream",
          "text": [
            "\n",
            "Parameter containing:\n",
            "tensor([[5.0071]], requires_grad=True)\n",
            "Parameter containing:\n",
            "tensor([-15.8379], requires_grad=True)\n"
          ],
          "name": "stdout"
        }
      ]
    },
    {
      "cell_type": "code",
      "metadata": {
        "id": "Pb6AQz-9_hTa"
      },
      "source": [
        ""
      ],
      "execution_count": null,
      "outputs": []
    }
  ]
}