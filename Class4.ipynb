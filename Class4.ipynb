{
  "nbformat": 4,
  "nbformat_minor": 0,
  "metadata": {
    "colab": {
      "name": "Class4.ipynb",
      "provenance": []
    },
    "kernelspec": {
      "name": "python3",
      "display_name": "Python 3"
    },
    "accelerator": "GPU"
  },
  "cells": [
    {
      "cell_type": "code",
      "metadata": {
        "id": "viQNYpCFsWEe",
        "colab_type": "code",
        "colab": {
          "base_uri": "https://localhost:8080/",
          "height": 55
        },
        "outputId": "94092b8a-a985-45a8-95f9-3b4878f29190"
      },
      "source": [
        "from google.colab import drive\n",
        "drive.mount(\"/content/drive\")"
      ],
      "execution_count": 5,
      "outputs": [
        {
          "output_type": "stream",
          "text": [
            "Drive already mounted at /content/drive; to attempt to forcibly remount, call drive.mount(\"/content/drive\", force_remount=True).\n"
          ],
          "name": "stdout"
        }
      ]
    },
    {
      "cell_type": "code",
      "metadata": {
        "id": "cEda-ypG24rP",
        "colab_type": "code",
        "colab": {}
      },
      "source": [
        "import numpy as np\n",
        "import torch\n",
        "import csv"
      ],
      "execution_count": 6,
      "outputs": []
    },
    {
      "cell_type": "code",
      "metadata": {
        "id": "I606SkSPjFUG",
        "colab_type": "code",
        "colab": {
          "base_uri": "https://localhost:8080/",
          "height": 243
        },
        "outputId": "4c5a0ded-c828-4b1a-ded7-838d887b72e9"
      },
      "source": [
        "#my file is in data folder of drive\n",
        "import pandas as pd\n",
        "wine_path = \"/content/drive/My Drive/data/winequality_white.csv\"\n",
        "df = pd.read_csv(wine_path,skiprows=1)\n",
        "wineq_numpy = df.to_numpy(dtype=np.float32)\n",
        "wineq_numpy"
      ],
      "execution_count": 12,
      "outputs": [
        {
          "output_type": "execute_result",
          "data": {
            "text/plain": [
              "array([[1.000e+00, 6.300e+00, 3.000e-01, ..., 4.900e-01, 9.500e+00,\n",
              "        6.000e+00],\n",
              "       [2.000e+00, 8.100e+00, 2.800e-01, ..., 4.400e-01, 1.010e+01,\n",
              "        6.000e+00],\n",
              "       [3.000e+00, 7.200e+00, 2.300e-01, ..., 4.000e-01, 9.900e+00,\n",
              "        6.000e+00],\n",
              "       ...,\n",
              "       [4.895e+03, 6.500e+00,       nan, ..., 4.600e-01, 9.400e+00,\n",
              "        6.000e+00],\n",
              "       [4.896e+03, 5.500e+00, 2.900e-01, ..., 3.800e-01, 1.280e+01,\n",
              "        7.000e+00],\n",
              "       [4.897e+03, 6.000e+00, 2.100e-01, ..., 3.200e-01, 1.180e+01,\n",
              "        6.000e+00]], dtype=float32)"
            ]
          },
          "metadata": {
            "tags": []
          },
          "execution_count": 12
        }
      ]
    },
    {
      "cell_type": "code",
      "metadata": {
        "id": "2uZ1658Uj86F",
        "colab_type": "code",
        "colab": {
          "base_uri": "https://localhost:8080/",
          "height": 35
        },
        "outputId": "92ef710f-d5a9-4d2f-96f4-ffaaeaa23fb5"
      },
      "source": [
        "wineq = torch.from_numpy(wineq_numpy)\n",
        "print(wineq.shape,wineq.dtype)"
      ],
      "execution_count": 13,
      "outputs": [
        {
          "output_type": "stream",
          "text": [
            "torch.Size([4897, 13]) torch.float32\n"
          ],
          "name": "stdout"
        }
      ]
    },
    {
      "cell_type": "code",
      "metadata": {
        "id": "fGpFuxOvoJXn",
        "colab_type": "code",
        "colab": {}
      },
      "source": [
        "bike_path = \"/content/drive/My Drive/data/hour.csv\"\n",
        "bike_numpy = np.loadtxt(bike_path, dtype=np.float32,delimiter=\",\",skiprows=4,converters={1: lambda x: float(x[8:10])})"
      ],
      "execution_count": 17,
      "outputs": []
    },
    {
      "cell_type": "code",
      "metadata": {
        "id": "aj6VQEe1o8gk",
        "colab_type": "code",
        "colab": {
          "base_uri": "https://localhost:8080/",
          "height": 243
        },
        "outputId": "7da1c687-96c9-461f-d599-e45b2de253a2"
      },
      "source": [
        "bikes = torch.from_numpy(bike_numpy)\n",
        "bikes"
      ],
      "execution_count": 18,
      "outputs": [
        {
          "output_type": "execute_result",
          "data": {
            "text/plain": [
              "tensor([[4.0000e+00, 1.0000e+00, 1.0000e+00,  ..., 3.0000e+00, 1.0000e+01,\n",
              "         1.3000e+01],\n",
              "        [5.0000e+00, 1.0000e+00, 1.0000e+00,  ..., 0.0000e+00, 1.0000e+00,\n",
              "         1.0000e+00],\n",
              "        [6.0000e+00, 1.0000e+00, 1.0000e+00,  ..., 0.0000e+00, 1.0000e+00,\n",
              "         1.0000e+00],\n",
              "        ...,\n",
              "        [1.7377e+04, 3.1000e+01, 1.0000e+00,  ..., 7.0000e+00, 8.3000e+01,\n",
              "         9.0000e+01],\n",
              "        [1.7378e+04, 3.1000e+01, 1.0000e+00,  ..., 1.3000e+01, 4.8000e+01,\n",
              "         6.1000e+01],\n",
              "        [1.7379e+04, 3.1000e+01, 1.0000e+00,  ..., 1.2000e+01, 3.7000e+01,\n",
              "         4.9000e+01]])"
            ]
          },
          "metadata": {
            "tags": []
          },
          "execution_count": 18
        }
      ]
    },
    {
      "cell_type": "code",
      "metadata": {
        "id": "2fu8bk8qpCU1",
        "colab_type": "code",
        "colab": {
          "base_uri": "https://localhost:8080/",
          "height": 52
        },
        "outputId": "9867188b-e5ca-43e6-bb92-45216050c97b"
      },
      "source": [
        "print(bikes.shape)\n",
        "\n",
        "daily_bikes = bikes.view(-1,24,bikes.shape[1])\n",
        "print(daily_bikes.shape, daily_bikes.stride())"
      ],
      "execution_count": 19,
      "outputs": [
        {
          "output_type": "stream",
          "text": [
            "torch.Size([17376, 17])\n",
            "torch.Size([724, 24, 17]) (408, 17, 1)\n"
          ],
          "name": "stdout"
        }
      ]
    },
    {
      "cell_type": "code",
      "metadata": {
        "id": "ZZhuFugbpTJo",
        "colab_type": "code",
        "colab": {}
      },
      "source": [
        ""
      ],
      "execution_count": null,
      "outputs": []
    }
  ]
}