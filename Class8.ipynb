{
  "nbformat": 4,
  "nbformat_minor": 0,
  "metadata": {
    "colab": {
      "name": "Class8.ipynb",
      "provenance": []
    },
    "kernelspec": {
      "name": "python3",
      "display_name": "Python 3"
    }
  },
  "cells": [
    {
      "cell_type": "code",
      "metadata": {
        "id": "2uxoi5kDvv4w",
        "outputId": "575459d2-7d02-4ca8-d309-fdd99596bfd7",
        "colab": {
          "base_uri": "https://localhost:8080/",
          "height": 35
        }
      },
      "source": [
        "from google.colab import drive\n",
        "drive.mount(\"/content/drive\")"
      ],
      "execution_count": 1,
      "outputs": [
        {
          "output_type": "stream",
          "text": [
            "Mounted at /content/drive\n"
          ],
          "name": "stdout"
        }
      ]
    },
    {
      "cell_type": "code",
      "metadata": {
        "id": "d4jGNIiPzAOf"
      },
      "source": [
        "import numpy as np\n",
        "import torch\n",
        "\n",
        "t_c = torch.tensor([0.5,14.0,15.0,28.0,11.0,8.0,3.0,-4.0,6.0,13.0,21.0])\n",
        "t_u = torch.tensor([35.7,55.9,58.2,81.9,56.3,48.9,33.9,21.8,48.4,60.4,68.4])\n",
        "\n",
        "t_un = 0.1 * t_u\n",
        "\n",
        "def model(t_u,w,b):\n",
        "  return w * t_u + b\n",
        "\n",
        "def loss_fn(t_p,t_c):\n",
        "  squared_diffs = (t_p - t_c)**2\n",
        "  return squared_diffs.mean()"
      ],
      "execution_count": 2,
      "outputs": []
    },
    {
      "cell_type": "code",
      "metadata": {
        "id": "pr1G8uE48vES",
        "outputId": "ea94fe9b-d8b9-47dd-ebac-019703a6a829",
        "colab": {
          "base_uri": "https://localhost:8080/",
          "height": 399
        }
      },
      "source": [
        "import torch.optim as optim\n",
        "dir(optim)"
      ],
      "execution_count": 3,
      "outputs": [
        {
          "output_type": "execute_result",
          "data": {
            "text/plain": [
              "['ASGD',\n",
              " 'Adadelta',\n",
              " 'Adagrad',\n",
              " 'Adam',\n",
              " 'AdamW',\n",
              " 'Adamax',\n",
              " 'LBFGS',\n",
              " 'Optimizer',\n",
              " 'RMSprop',\n",
              " 'Rprop',\n",
              " 'SGD',\n",
              " 'SparseAdam',\n",
              " '__builtins__',\n",
              " '__cached__',\n",
              " '__doc__',\n",
              " '__file__',\n",
              " '__loader__',\n",
              " '__name__',\n",
              " '__package__',\n",
              " '__path__',\n",
              " '__spec__',\n",
              " 'lr_scheduler']"
            ]
          },
          "metadata": {
            "tags": []
          },
          "execution_count": 3
        }
      ]
    },
    {
      "cell_type": "code",
      "metadata": {
        "id": "jrJNalfeEAZF",
        "outputId": "431fc305-7956-49d4-d4d0-b40b1a380553",
        "colab": {
          "base_uri": "https://localhost:8080/",
          "height": 35
        }
      },
      "source": [
        "params = torch.tensor([1.0,0.0],requires_grad=True)\n",
        "learning_rate = 1e-2\n",
        "optimizer = optim.SGD([params],lr=learning_rate)\n",
        "\n",
        "t_p = model(t_un,*params)\n",
        "loss = loss_fn(t_p,t_c)\n",
        "\n",
        "optimizer.zero_grad()\n",
        "loss.backward()\n",
        "optimizer.step()\n",
        "\n",
        "params"
      ],
      "execution_count": 4,
      "outputs": [
        {
          "output_type": "execute_result",
          "data": {
            "text/plain": [
              "tensor([1.7761, 0.1064], requires_grad=True)"
            ]
          },
          "metadata": {
            "tags": []
          },
          "execution_count": 4
        }
      ]
    },
    {
      "cell_type": "code",
      "metadata": {
        "id": "uICEomRQXJT4"
      },
      "source": [
        "def training_loop(n_epochs,optimizer,params,t_u,t_c):\n",
        "  for epoch in range(1,n_epochs+1):\n",
        "    t_p = model(t_u,*params)\n",
        "    loss = loss_fn(t_p,t_c)\n",
        "\n",
        "    optimizer.zero_grad()\n",
        "    loss.backward()\n",
        "    optimizer.step()\n",
        "\n",
        "    if epoch%500==0:\n",
        "      print('Epoch %d, Loss %f'%(epoch,float(loss)))\n",
        "  return params"
      ],
      "execution_count": 5,
      "outputs": []
    },
    {
      "cell_type": "code",
      "metadata": {
        "id": "Bug_fZDBXocU",
        "outputId": "1a69c2c2-a277-4293-d700-786e887a494e",
        "colab": {
          "base_uri": "https://localhost:8080/",
          "height": 208
        }
      },
      "source": [
        "training_loop(\n",
        "    n_epochs=5000,\n",
        "    optimizer=optimizer,\n",
        "    params=params,\n",
        "    t_u=t_un,\n",
        "    t_c=t_c\n",
        ")"
      ],
      "execution_count": 6,
      "outputs": [
        {
          "output_type": "stream",
          "text": [
            "Epoch 500, Loss 7.843371\n",
            "Epoch 1000, Loss 3.825484\n",
            "Epoch 1500, Loss 3.091631\n",
            "Epoch 2000, Loss 2.957596\n",
            "Epoch 2500, Loss 2.933116\n",
            "Epoch 3000, Loss 2.928646\n",
            "Epoch 3500, Loss 2.927830\n",
            "Epoch 4000, Loss 2.927680\n",
            "Epoch 4500, Loss 2.927652\n",
            "Epoch 5000, Loss 2.927647\n"
          ],
          "name": "stdout"
        },
        {
          "output_type": "execute_result",
          "data": {
            "text/plain": [
              "tensor([  5.3671, -17.3012], requires_grad=True)"
            ]
          },
          "metadata": {
            "tags": []
          },
          "execution_count": 6
        }
      ]
    },
    {
      "cell_type": "code",
      "metadata": {
        "id": "lxjSfkkrX4su"
      },
      "source": [
        ""
      ],
      "execution_count": null,
      "outputs": []
    }
  ]
}