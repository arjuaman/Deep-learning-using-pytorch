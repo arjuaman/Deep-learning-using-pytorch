{
  "nbformat": 4,
  "nbformat_minor": 0,
  "metadata": {
    "colab": {
      "name": "Class5.ipynb",
      "provenance": []
    },
    "kernelspec": {
      "name": "python3",
      "display_name": "Python 3"
    }
  },
  "cells": [
    {
      "cell_type": "code",
      "metadata": {
        "id": "5fG-trxzjbq4",
        "colab_type": "code",
        "colab": {
          "base_uri": "https://localhost:8080/",
          "height": 35
        },
        "outputId": "9efdac29-4912-4e10-efcd-0a86a40ffb54"
      },
      "source": [
        "from google.colab import drive\n",
        "drive.mount(\"/content/drive/\")"
      ],
      "execution_count": 1,
      "outputs": [
        {
          "output_type": "stream",
          "text": [
            "Mounted at /content/drive/\n"
          ],
          "name": "stdout"
        }
      ]
    },
    {
      "cell_type": "code",
      "metadata": {
        "id": "hMHKrtYekHTy",
        "colab_type": "code",
        "colab": {}
      },
      "source": [
        "import numpy as np\n",
        "import torch"
      ],
      "execution_count": 2,
      "outputs": []
    },
    {
      "cell_type": "code",
      "metadata": {
        "id": "xp3-OwHjkTgG",
        "colab_type": "code",
        "colab": {}
      },
      "source": [
        "with open('/content/drive/My Drive/data/alice_novel.txt',encoding='utf-8') as f:\n",
        "  text = f.read()"
      ],
      "execution_count": 3,
      "outputs": []
    },
    {
      "cell_type": "code",
      "metadata": {
        "id": "YHkyHw2Vko_m",
        "colab_type": "code",
        "colab": {
          "base_uri": "https://localhost:8080/",
          "height": 35
        },
        "outputId": "d81539bb-b50c-4908-c65c-f42284c394b4"
      },
      "source": [
        "lines = text.split('\\n')\n",
        "line = lines[200]\n",
        "line"
      ],
      "execution_count": 4,
      "outputs": [
        {
          "output_type": "execute_result",
          "data": {
            "application/vnd.google.colaboratory.intrinsic+json": {
              "type": "string"
            },
            "text/plain": [
              "\"she felt a little nervous about this; 'for it might end, you know,' said\""
            ]
          },
          "metadata": {
            "tags": []
          },
          "execution_count": 4
        }
      ]
    },
    {
      "cell_type": "code",
      "metadata": {
        "id": "Rvtoqxn7kvOk",
        "colab_type": "code",
        "colab": {
          "base_uri": "https://localhost:8080/",
          "height": 35
        },
        "outputId": "2674d4b3-fb34-4092-e5c0-fa14f213e162"
      },
      "source": [
        "letter_t = torch.zeros(len(line),128)\n",
        "letter_t.shape"
      ],
      "execution_count": 5,
      "outputs": [
        {
          "output_type": "execute_result",
          "data": {
            "text/plain": [
              "torch.Size([72, 128])"
            ]
          },
          "metadata": {
            "tags": []
          },
          "execution_count": 5
        }
      ]
    },
    {
      "cell_type": "code",
      "metadata": {
        "id": "V3U3o-Xhk2SP",
        "colab_type": "code",
        "colab": {}
      },
      "source": [
        "for i,letter in enumerate(line.lower().strip()):\n",
        "  letter_index = ord(letter) if ord(letter) < 128 else 0\n",
        "  letter_t[i][letter_index] = 1"
      ],
      "execution_count": 6,
      "outputs": []
    },
    {
      "cell_type": "code",
      "metadata": {
        "id": "eaZdeqQzlVos",
        "colab_type": "code",
        "colab": {
          "base_uri": "https://localhost:8080/",
          "height": 277
        },
        "outputId": "bffac8bc-2f8c-4302-c4c9-edd574598fdd"
      },
      "source": [
        "def clean_words(input_str):\n",
        "  punctuation = '.,;:\"!?_-'\n",
        "  word_list = input_str.lower().replace('\\n',' ').split()\n",
        "  word_list = [word.strip(punctuation) for word in word_list]\n",
        "  return word_list\n",
        "\n",
        "words_in_line = clean_words(line)\n",
        "line,words_in_line"
      ],
      "execution_count": 7,
      "outputs": [
        {
          "output_type": "execute_result",
          "data": {
            "text/plain": [
              "(\"she felt a little nervous about this; 'for it might end, you know,' said\",\n",
              " ['she',\n",
              "  'felt',\n",
              "  'a',\n",
              "  'little',\n",
              "  'nervous',\n",
              "  'about',\n",
              "  'this',\n",
              "  \"'for\",\n",
              "  'it',\n",
              "  'might',\n",
              "  'end',\n",
              "  'you',\n",
              "  \"know,'\",\n",
              "  'said'])"
            ]
          },
          "metadata": {
            "tags": []
          },
          "execution_count": 7
        }
      ]
    },
    {
      "cell_type": "code",
      "metadata": {
        "id": "bM0xv6eTlxop",
        "colab_type": "code",
        "colab": {
          "base_uri": "https://localhost:8080/",
          "height": 35
        },
        "outputId": "840fff44-e3ac-4a93-eba9-64e3c5cb239b"
      },
      "source": [
        "word_list = sorted(set(clean_words(text)))\n",
        "word2index_dict = {word: i for (i,word) in enumerate(word_list)}\n",
        "\n",
        "len(word2index_dict),word2index_dict['impossible']"
      ],
      "execution_count": 8,
      "outputs": [
        {
          "output_type": "execute_result",
          "data": {
            "text/plain": [
              "(3738, 1719)"
            ]
          },
          "metadata": {
            "tags": []
          },
          "execution_count": 8
        }
      ]
    },
    {
      "cell_type": "code",
      "metadata": {
        "id": "blrOcIFkmJ3c",
        "colab_type": "code",
        "colab": {
          "base_uri": "https://localhost:8080/",
          "height": 277
        },
        "outputId": "014f5005-cb1f-4088-c8d9-69a7e47215db"
      },
      "source": [
        "word_t = torch.zeros(len(words_in_line),len(word2index_dict))\n",
        "for i,word in enumerate(words_in_line):\n",
        "  word_index = word2index_dict[word]\n",
        "  word_t[i][word_index] = 1\n",
        "  print('{:2}{:4}{}'.format(i,word_index,word))\n",
        "\n",
        "print(word_t.shape)"
      ],
      "execution_count": 9,
      "outputs": [
        {
          "output_type": "stream",
          "text": [
            " 02847she\n",
            " 11310felt\n",
            " 2 322a\n",
            " 31970little\n",
            " 42211nervous\n",
            " 5 328about\n",
            " 63250this\n",
            " 7  86'for\n",
            " 81775it\n",
            " 92103might\n",
            "101182end\n",
            "113712you\n",
            "121857know,'\n",
            "132737said\n",
            "torch.Size([14, 3738])\n"
          ],
          "name": "stdout"
        }
      ]
    },
    {
      "cell_type": "code",
      "metadata": {
        "id": "SBvvCPfJmkvq",
        "colab_type": "code",
        "colab": {}
      },
      "source": [
        ""
      ],
      "execution_count": null,
      "outputs": []
    }
  ]
}