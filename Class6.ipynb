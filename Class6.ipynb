{
  "nbformat": 4,
  "nbformat_minor": 0,
  "metadata": {
    "colab": {
      "name": "Class6.ipynb",
      "provenance": []
    },
    "kernelspec": {
      "name": "python3",
      "display_name": "Python 3"
    }
  },
  "cells": [
    {
      "cell_type": "code",
      "metadata": {
        "id": "y1z5b65Z-o7a",
        "colab_type": "code",
        "colab": {
          "base_uri": "https://localhost:8080/",
          "height": 55
        },
        "outputId": "92c27dc9-870a-4526-d785-6f16c99b433c"
      },
      "source": [
        "from google.colab import drive\n",
        "drive.mount(\"/content/drive\")"
      ],
      "execution_count": 3,
      "outputs": [
        {
          "output_type": "stream",
          "text": [
            "Drive already mounted at /content/drive; to attempt to forcibly remount, call drive.mount(\"/content/drive\", force_remount=True).\n"
          ],
          "name": "stdout"
        }
      ]
    },
    {
      "cell_type": "code",
      "metadata": {
        "id": "8kfvidt7CPPE",
        "colab_type": "code",
        "colab": {}
      },
      "source": [
        "import numpy as np\n",
        "import torch"
      ],
      "execution_count": 4,
      "outputs": []
    },
    {
      "cell_type": "code",
      "metadata": {
        "id": "_Q4rhGS6CcfT",
        "colab_type": "code",
        "colab": {}
      },
      "source": [
        "t_c = [0.5,14.0,15.0,28.0,11.0,8.0,3.0,-4.0,6.0,13.0,21.0]\n",
        "t_u = [35.7,55.9,58.2,81.9,56.3,48.9,33.9,21.8,48.4,60.4,68.4]"
      ],
      "execution_count": 5,
      "outputs": []
    },
    {
      "cell_type": "code",
      "metadata": {
        "id": "7EO2RPKOEDQ-",
        "colab_type": "code",
        "colab": {}
      },
      "source": [
        "t_c = torch.tensor(t_c)\n",
        "t_u = torch.tensor(t_u)"
      ],
      "execution_count": 6,
      "outputs": []
    },
    {
      "cell_type": "code",
      "metadata": {
        "id": "Eok7G-OHEICW",
        "colab_type": "code",
        "colab": {}
      },
      "source": [
        "def model(t_u,w,b):\n",
        "  return w*t_u+b"
      ],
      "execution_count": 8,
      "outputs": []
    },
    {
      "cell_type": "code",
      "metadata": {
        "id": "VD36EFFlESMq",
        "colab_type": "code",
        "colab": {}
      },
      "source": [
        "def loss_fn(t_p,t_c):\n",
        "  squared_diffs = (t_p - t_c)**2\n",
        "  return squared_diffs.mean()"
      ],
      "execution_count": 9,
      "outputs": []
    },
    {
      "cell_type": "code",
      "metadata": {
        "id": "YD-1b5yPEmEX",
        "colab_type": "code",
        "colab": {
          "base_uri": "https://localhost:8080/",
          "height": 52
        },
        "outputId": "15eb2869-9ffd-43be-8c27-5f716eea3c48"
      },
      "source": [
        "w = torch.ones(())\n",
        "b = torch.zeros(())\n",
        "\n",
        "t_p = model(t_u,w,b)\n",
        "t_p"
      ],
      "execution_count": 10,
      "outputs": [
        {
          "output_type": "execute_result",
          "data": {
            "text/plain": [
              "tensor([35.7000, 55.9000, 58.2000, 81.9000, 56.3000, 48.9000, 33.9000, 21.8000,\n",
              "        48.4000, 60.4000, 68.4000])"
            ]
          },
          "metadata": {
            "tags": []
          },
          "execution_count": 10
        }
      ]
    },
    {
      "cell_type": "code",
      "metadata": {
        "id": "RXTkaT74EtUE",
        "colab_type": "code",
        "colab": {
          "base_uri": "https://localhost:8080/",
          "height": 35
        },
        "outputId": "c99a15a9-8c0f-447d-89db-2f449abb6891"
      },
      "source": [
        "loss = loss_fn(t_p,t_c)\n",
        "loss"
      ],
      "execution_count": 11,
      "outputs": [
        {
          "output_type": "execute_result",
          "data": {
            "text/plain": [
              "tensor(1763.8846)"
            ]
          },
          "metadata": {
            "tags": []
          },
          "execution_count": 11
        }
      ]
    },
    {
      "cell_type": "code",
      "metadata": {
        "id": "YFFNnX-mE1w2",
        "colab_type": "code",
        "colab": {}
      },
      "source": [
        "delta = 0.1"
      ],
      "execution_count": 12,
      "outputs": []
    },
    {
      "cell_type": "code",
      "metadata": {
        "id": "sJEkW_skFA9a",
        "colab_type": "code",
        "colab": {}
      },
      "source": [
        "loss_rate_of_change_w = \\\n",
        "(loss_fn(model(t_u,w+delta,b),t_c)-loss_fn(model(t_u,w-delta,b),t_c))/(2.0*delta)"
      ],
      "execution_count": 23,
      "outputs": []
    },
    {
      "cell_type": "code",
      "metadata": {
        "id": "AHAR2pgfFY9e",
        "colab_type": "code",
        "colab": {
          "base_uri": "https://localhost:8080/",
          "height": 35
        },
        "outputId": "07bb13e3-1a67-4a63-c82a-8838f20211da"
      },
      "source": [
        "learning_rate = 1e-2\n",
        "print(learning_rate)"
      ],
      "execution_count": 14,
      "outputs": [
        {
          "output_type": "stream",
          "text": [
            "0.01\n"
          ],
          "name": "stdout"
        }
      ]
    },
    {
      "cell_type": "code",
      "metadata": {
        "id": "WPHFPIeNFoq6",
        "colab_type": "code",
        "colab": {}
      },
      "source": [
        "w = w - learning_rate * loss_rate_of_change_w"
      ],
      "execution_count": 15,
      "outputs": []
    },
    {
      "cell_type": "code",
      "metadata": {
        "id": "uZfGM50jFr0C",
        "colab_type": "code",
        "colab": {}
      },
      "source": [
        "loss_rate_of_change_b = (loss_fn(model(t_u,w,b+delta),t_c)-loss_fn(model(t_u,w,b-delta),t_c))/(2.0*delta)"
      ],
      "execution_count": 16,
      "outputs": []
    },
    {
      "cell_type": "code",
      "metadata": {
        "id": "Itt1TjuYF5B_",
        "colab_type": "code",
        "colab": {}
      },
      "source": [
        "b = b - learning_rate * loss_rate_of_change_b"
      ],
      "execution_count": 17,
      "outputs": []
    },
    {
      "cell_type": "code",
      "metadata": {
        "id": "O6tduI6RF8Qb",
        "colab_type": "code",
        "colab": {}
      },
      "source": [
        "def dloss_fn(t_p,t_c):\n",
        "  dsq_diffs = 2*(t_p-t_c)/t_p.size(0)\n",
        "  return dsq_diffs\n",
        "\n",
        "def dmodel_dw(t_u,w,b):\n",
        "  return t_u\n",
        "\n",
        "def dmodel_db(t_u,w,b):\n",
        "  return 1.0\n",
        "\n",
        "def grad_fn(t_u,t_c,t_p,w,b):\n",
        "  dloss_dtp = dloss_fn(t_p,t_c)\n",
        "  dloss_dw = dloss_dtp*dmodel_dw(t_u,w,b)\n",
        "  dloss_db = dloss_dtp*dmodel_db(t_u,w,b)\n",
        "  return torch.stack([dloss_dw.sum(),dloss_db.sum()])"
      ],
      "execution_count": 19,
      "outputs": []
    },
    {
      "cell_type": "code",
      "metadata": {
        "id": "xZTt7M_SG0vj",
        "colab_type": "code",
        "colab": {}
      },
      "source": [
        "def training_loop(n_epochs,learning_rate,params,t_u,t_c):\n",
        "  for epoch in range(1,n_epochs+1):\n",
        "    w,b = params\n",
        "\n",
        "    t_p=model(t_u,w,b)\n",
        "    loss=loss_fn(t_p,t_c)\n",
        "    grad=grad_fn(t_u,t_c,t_p,w,b)\n",
        "\n",
        "    params = params - learning_rate * grad\n",
        "\n",
        "    print('Epoch %d, Loss %f'%(epoch,float(loss)))\n",
        "\n",
        "  return params"
      ],
      "execution_count": 20,
      "outputs": []
    },
    {
      "cell_type": "code",
      "metadata": {
        "id": "tMenabsbHZZ6",
        "colab_type": "code",
        "colab": {
          "base_uri": "https://localhost:8080/",
          "height": 1000
        },
        "outputId": "9b3c5d7f-fa34-4ee1-dc5e-31d138900c20"
      },
      "source": [
        "training_loop(n_epochs=100,learning_rate=1e-2,params=torch.tensor([1.0,0.0]),t_u=t_u,t_c=t_c)"
      ],
      "execution_count": 21,
      "outputs": [
        {
          "output_type": "stream",
          "text": [
            "Epoch 1, Loss 1763.884644\n",
            "Epoch 2, Loss 5802485.500000\n",
            "Epoch 3, Loss 19408035840.000000\n",
            "Epoch 4, Loss 64915909902336.000000\n",
            "Epoch 5, Loss 217130559820791808.000000\n",
            "Epoch 6, Loss 726257583152928129024.000000\n",
            "Epoch 7, Loss 2429183992928415200051200.000000\n",
            "Epoch 8, Loss 8125126681682403942989824000.000000\n",
            "Epoch 9, Loss 27176891792249147543971428302848.000000\n",
            "Epoch 10, Loss 90901154706620645225508955521810432.000000\n",
            "Epoch 11, Loss inf\n",
            "Epoch 12, Loss inf\n",
            "Epoch 13, Loss inf\n",
            "Epoch 14, Loss inf\n",
            "Epoch 15, Loss inf\n",
            "Epoch 16, Loss inf\n",
            "Epoch 17, Loss inf\n",
            "Epoch 18, Loss inf\n",
            "Epoch 19, Loss inf\n",
            "Epoch 20, Loss inf\n",
            "Epoch 21, Loss inf\n",
            "Epoch 22, Loss inf\n",
            "Epoch 23, Loss nan\n",
            "Epoch 24, Loss nan\n",
            "Epoch 25, Loss nan\n",
            "Epoch 26, Loss nan\n",
            "Epoch 27, Loss nan\n",
            "Epoch 28, Loss nan\n",
            "Epoch 29, Loss nan\n",
            "Epoch 30, Loss nan\n",
            "Epoch 31, Loss nan\n",
            "Epoch 32, Loss nan\n",
            "Epoch 33, Loss nan\n",
            "Epoch 34, Loss nan\n",
            "Epoch 35, Loss nan\n",
            "Epoch 36, Loss nan\n",
            "Epoch 37, Loss nan\n",
            "Epoch 38, Loss nan\n",
            "Epoch 39, Loss nan\n",
            "Epoch 40, Loss nan\n",
            "Epoch 41, Loss nan\n",
            "Epoch 42, Loss nan\n",
            "Epoch 43, Loss nan\n",
            "Epoch 44, Loss nan\n",
            "Epoch 45, Loss nan\n",
            "Epoch 46, Loss nan\n",
            "Epoch 47, Loss nan\n",
            "Epoch 48, Loss nan\n",
            "Epoch 49, Loss nan\n",
            "Epoch 50, Loss nan\n",
            "Epoch 51, Loss nan\n",
            "Epoch 52, Loss nan\n",
            "Epoch 53, Loss nan\n",
            "Epoch 54, Loss nan\n",
            "Epoch 55, Loss nan\n",
            "Epoch 56, Loss nan\n",
            "Epoch 57, Loss nan\n",
            "Epoch 58, Loss nan\n",
            "Epoch 59, Loss nan\n",
            "Epoch 60, Loss nan\n",
            "Epoch 61, Loss nan\n",
            "Epoch 62, Loss nan\n",
            "Epoch 63, Loss nan\n",
            "Epoch 64, Loss nan\n",
            "Epoch 65, Loss nan\n",
            "Epoch 66, Loss nan\n",
            "Epoch 67, Loss nan\n",
            "Epoch 68, Loss nan\n",
            "Epoch 69, Loss nan\n",
            "Epoch 70, Loss nan\n",
            "Epoch 71, Loss nan\n",
            "Epoch 72, Loss nan\n",
            "Epoch 73, Loss nan\n",
            "Epoch 74, Loss nan\n",
            "Epoch 75, Loss nan\n",
            "Epoch 76, Loss nan\n",
            "Epoch 77, Loss nan\n",
            "Epoch 78, Loss nan\n",
            "Epoch 79, Loss nan\n",
            "Epoch 80, Loss nan\n",
            "Epoch 81, Loss nan\n",
            "Epoch 82, Loss nan\n",
            "Epoch 83, Loss nan\n",
            "Epoch 84, Loss nan\n",
            "Epoch 85, Loss nan\n",
            "Epoch 86, Loss nan\n",
            "Epoch 87, Loss nan\n",
            "Epoch 88, Loss nan\n",
            "Epoch 89, Loss nan\n",
            "Epoch 90, Loss nan\n",
            "Epoch 91, Loss nan\n",
            "Epoch 92, Loss nan\n",
            "Epoch 93, Loss nan\n",
            "Epoch 94, Loss nan\n",
            "Epoch 95, Loss nan\n",
            "Epoch 96, Loss nan\n",
            "Epoch 97, Loss nan\n",
            "Epoch 98, Loss nan\n",
            "Epoch 99, Loss nan\n",
            "Epoch 100, Loss nan\n"
          ],
          "name": "stdout"
        },
        {
          "output_type": "execute_result",
          "data": {
            "text/plain": [
              "tensor([nan, nan])"
            ]
          },
          "metadata": {
            "tags": []
          },
          "execution_count": 21
        }
      ]
    },
    {
      "cell_type": "code",
      "metadata": {
        "id": "5DdkU55XHosO",
        "colab_type": "code",
        "colab": {}
      },
      "source": [
        ""
      ],
      "execution_count": null,
      "outputs": []
    }
  ]
}